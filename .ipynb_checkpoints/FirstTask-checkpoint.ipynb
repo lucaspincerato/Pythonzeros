{
 "cells": [
  {
   "cell_type": "code",
   "execution_count": 54,
   "id": "moderate-assignment",
   "metadata": {},
   "outputs": [],
   "source": [
    "import pandas as pd\n",
    "import numpy as np"
   ]
  },
  {
   "cell_type": "code",
   "execution_count": 63,
   "id": "packed-serum",
   "metadata": {},
   "outputs": [],
   "source": [
    "df = pd.read_csv(\"VSS910.csv\", encoding  = \"UTF-8\", sep = \";\", parse_dates=[\"ReportDate\"],  usecols=[\"ReportDate\", \"BusinessTransactionCycle\", \"GrossAmount\"])"
   ]
  },
  {
   "cell_type": "code",
   "execution_count": 66,
   "id": "informational-crisis",
   "metadata": {},
   "outputs": [
    {
     "data": {
      "text/plain": [
       "ReportDate                  datetime64[ns]\n",
       "BusinessTransactionCycle            object\n",
       "GrossAmount                        float64\n",
       "dtype: object"
      ]
     },
     "execution_count": 66,
     "metadata": {},
     "output_type": "execute_result"
    }
   ],
   "source": [
    "df.dtypes"
   ]
  },
  {
   "cell_type": "code",
   "execution_count": 65,
   "id": "recent-coordinator",
   "metadata": {},
   "outputs": [],
   "source": [
    "df[\"GrossAmount\"] = pd.to_numeric(df[\"GrossAmount\"],errors='coerce')"
   ]
  },
  {
   "cell_type": "code",
   "execution_count": 67,
   "id": "protecting-discretion",
   "metadata": {},
   "outputs": [],
   "source": [
    "df[\"ReportDate\"] = pd.to_datetime(df[\"ReportDate\"])"
   ]
  },
  {
   "cell_type": "code",
   "execution_count": 68,
   "id": "engaging-angola",
   "metadata": {},
   "outputs": [],
   "source": [
    "df[\"BusinessTransactionCycle\"] = df[\"BusinessTransactionCycle\"].astype(\"str\")"
   ]
  },
  {
   "cell_type": "code",
   "execution_count": 72,
   "id": "aware-pulse",
   "metadata": {},
   "outputs": [
    {
     "data": {
      "text/html": [
       "<div>\n",
       "<style scoped>\n",
       "    .dataframe tbody tr th:only-of-type {\n",
       "        vertical-align: middle;\n",
       "    }\n",
       "\n",
       "    .dataframe tbody tr th {\n",
       "        vertical-align: top;\n",
       "    }\n",
       "\n",
       "    .dataframe thead th {\n",
       "        text-align: right;\n",
       "    }\n",
       "</style>\n",
       "<table border=\"1\" class=\"dataframe\">\n",
       "  <thead>\n",
       "    <tr style=\"text-align: right;\">\n",
       "      <th></th>\n",
       "      <th>confirmedDate</th>\n",
       "      <th>eventType</th>\n",
       "      <th>amountInBRL</th>\n",
       "    </tr>\n",
       "  </thead>\n",
       "  <tbody>\n",
       "    <tr>\n",
       "      <th>0</th>\n",
       "      <td>2021-01-01</td>\n",
       "      <td>Originals</td>\n",
       "      <td>NaN</td>\n",
       "    </tr>\n",
       "    <tr>\n",
       "      <th>1</th>\n",
       "      <td>2021-01-01</td>\n",
       "      <td>Originals</td>\n",
       "      <td>NaN</td>\n",
       "    </tr>\n",
       "    <tr>\n",
       "      <th>2</th>\n",
       "      <td>2021-01-01</td>\n",
       "      <td>Dispute Financial</td>\n",
       "      <td>NaN</td>\n",
       "    </tr>\n",
       "    <tr>\n",
       "      <th>3</th>\n",
       "      <td>2021-01-01</td>\n",
       "      <td>Dispute Response Financial</td>\n",
       "      <td>NaN</td>\n",
       "    </tr>\n",
       "    <tr>\n",
       "      <th>4</th>\n",
       "      <td>2021-01-01</td>\n",
       "      <td>Not Defined</td>\n",
       "      <td>NaN</td>\n",
       "    </tr>\n",
       "    <tr>\n",
       "      <th>...</th>\n",
       "      <td>...</td>\n",
       "      <td>...</td>\n",
       "      <td>...</td>\n",
       "    </tr>\n",
       "    <tr>\n",
       "      <th>186</th>\n",
       "      <td>2021-01-24</td>\n",
       "      <td>Dispute Financial</td>\n",
       "      <td>NaN</td>\n",
       "    </tr>\n",
       "    <tr>\n",
       "      <th>187</th>\n",
       "      <td>2021-01-24</td>\n",
       "      <td>Dispute Response Financial</td>\n",
       "      <td>NaN</td>\n",
       "    </tr>\n",
       "    <tr>\n",
       "      <th>188</th>\n",
       "      <td>2021-01-24</td>\n",
       "      <td>Not Defined</td>\n",
       "      <td>NaN</td>\n",
       "    </tr>\n",
       "    <tr>\n",
       "      <th>189</th>\n",
       "      <td>2021-01-24</td>\n",
       "      <td>Originals</td>\n",
       "      <td>NaN</td>\n",
       "    </tr>\n",
       "    <tr>\n",
       "      <th>190</th>\n",
       "      <td>2021-01-24</td>\n",
       "      <td>Originals</td>\n",
       "      <td>NaN</td>\n",
       "    </tr>\n",
       "  </tbody>\n",
       "</table>\n",
       "<p>191 rows × 3 columns</p>\n",
       "</div>"
      ],
      "text/plain": [
       "    confirmedDate                   eventType  amountInBRL\n",
       "0      2021-01-01                   Originals          NaN\n",
       "1      2021-01-01                   Originals          NaN\n",
       "2      2021-01-01           Dispute Financial          NaN\n",
       "3      2021-01-01  Dispute Response Financial          NaN\n",
       "4      2021-01-01                 Not Defined          NaN\n",
       "..            ...                         ...          ...\n",
       "186    2021-01-24           Dispute Financial          NaN\n",
       "187    2021-01-24  Dispute Response Financial          NaN\n",
       "188    2021-01-24                 Not Defined          NaN\n",
       "189    2021-01-24                   Originals          NaN\n",
       "190    2021-01-24                   Originals          NaN\n",
       "\n",
       "[191 rows x 3 columns]"
      ]
     },
     "execution_count": 72,
     "metadata": {},
     "output_type": "execute_result"
    }
   ],
   "source": [
    "df.rename(columns={\"ReportDate\": \"confirmedDate\",\n",
    "                  \"BusinessTransactionCycle\": \"eventType\",\n",
    "                  \"GrossAmount\": \"amountInBRL\"})"
   ]
  },
  {
   "cell_type": "code",
   "execution_count": 75,
   "id": "environmental-latter",
   "metadata": {},
   "outputs": [
    {
     "data": {
      "text/plain": [
       "0              Originals\n",
       "1              Originals\n",
       "2             chargeback\n",
       "3      secondPresentment\n",
       "4            Not Defined\n",
       "             ...        \n",
       "186           chargeback\n",
       "187    secondPresentment\n",
       "188          Not Defined\n",
       "189            Originals\n",
       "190            Originals\n",
       "Name: BusinessTransactionCycle, Length: 191, dtype: object"
      ]
     },
     "execution_count": 75,
     "metadata": {},
     "output_type": "execute_result"
    }
   ],
   "source": [
    "df[\"BusinessTransactionCycle\"].replace({\"Dispute Financial\": \"chargeback\",\"Dispute Response Financial\": \"secondPresentment\" })"
   ]
  },
  {
   "cell_type": "code",
   "execution_count": null,
   "id": "ordered-earthquake",
   "metadata": {},
   "outputs": [],
   "source": []
  },
  {
   "cell_type": "code",
   "execution_count": null,
   "id": "varied-career",
   "metadata": {},
   "outputs": [],
   "source": []
  },
  {
   "cell_type": "code",
   "execution_count": 47,
   "id": "liberal-blake",
   "metadata": {},
   "outputs": [
    {
     "data": {
      "text/html": [
       "<div>\n",
       "<style scoped>\n",
       "    .dataframe tbody tr th:only-of-type {\n",
       "        vertical-align: middle;\n",
       "    }\n",
       "\n",
       "    .dataframe tbody tr th {\n",
       "        vertical-align: top;\n",
       "    }\n",
       "\n",
       "    .dataframe thead th {\n",
       "        text-align: right;\n",
       "    }\n",
       "</style>\n",
       "<table border=\"1\" class=\"dataframe\">\n",
       "  <thead>\n",
       "    <tr style=\"text-align: right;\">\n",
       "      <th></th>\n",
       "      <th>ReportDate</th>\n",
       "      <th>BusinessTransactionCycle</th>\n",
       "      <th>GrossAmount</th>\n",
       "    </tr>\n",
       "  </thead>\n",
       "  <tbody>\n",
       "    <tr>\n",
       "      <th>0</th>\n",
       "      <td>2021-01-01</td>\n",
       "      <td>Originals</td>\n",
       "      <td>NaN</td>\n",
       "    </tr>\n",
       "    <tr>\n",
       "      <th>1</th>\n",
       "      <td>2021-01-01</td>\n",
       "      <td>Originals</td>\n",
       "      <td>NaN</td>\n",
       "    </tr>\n",
       "    <tr>\n",
       "      <th>2</th>\n",
       "      <td>2021-01-01</td>\n",
       "      <td>Dispute Financial</td>\n",
       "      <td>NaN</td>\n",
       "    </tr>\n",
       "    <tr>\n",
       "      <th>3</th>\n",
       "      <td>2021-01-01</td>\n",
       "      <td>Dispute Response Financial</td>\n",
       "      <td>NaN</td>\n",
       "    </tr>\n",
       "    <tr>\n",
       "      <th>4</th>\n",
       "      <td>2021-01-01</td>\n",
       "      <td>Not Defined</td>\n",
       "      <td>NaN</td>\n",
       "    </tr>\n",
       "  </tbody>\n",
       "</table>\n",
       "</div>"
      ],
      "text/plain": [
       "  ReportDate    BusinessTransactionCycle  GrossAmount\n",
       "0 2021-01-01                   Originals          NaN\n",
       "1 2021-01-01                   Originals          NaN\n",
       "2 2021-01-01           Dispute Financial          NaN\n",
       "3 2021-01-01  Dispute Response Financial          NaN\n",
       "4 2021-01-01                 Not Defined          NaN"
      ]
     },
     "execution_count": 47,
     "metadata": {},
     "output_type": "execute_result"
    }
   ],
   "source": [
    "df.head()"
   ]
  },
  {
   "cell_type": "code",
   "execution_count": null,
   "id": "narrow-yellow",
   "metadata": {},
   "outputs": [],
   "source": []
  }
 ],
 "metadata": {
  "kernelspec": {
   "display_name": "Python 3",
   "language": "python",
   "name": "python3"
  },
  "language_info": {
   "codemirror_mode": {
    "name": "ipython",
    "version": 3
   },
   "file_extension": ".py",
   "mimetype": "text/x-python",
   "name": "python",
   "nbconvert_exporter": "python",
   "pygments_lexer": "ipython3",
   "version": "3.9.1"
  }
 },
 "nbformat": 4,
 "nbformat_minor": 5
}
