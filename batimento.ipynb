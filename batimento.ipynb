{
 "cells": [
  {
   "cell_type": "markdown",
   "metadata": {},
   "source": [
    "#### Formato padrão batimento cleared:\n",
    "\n",
    "confirmedDate: [date] Data de clearing (confirmação)\n",
    "\n",
    "eventType: [string] Data de clearing (confirmação)\n",
    "\n",
    "amountInBRL: [numeric] Data de clearing (confirmação)\n",
    "\n",
    "____\n",
    "\n",
    "Domínio do eventType:\n",
    "debit: Vendas de crédito (bruto de Interchange)\n",
    "credit: Vendas de crédito (bruto de IC)\n",
    "chargeback: Chargebacks (bruto de IC)\n",
    "secondPresentment: Reapresentações (bruto de IC)"
   ]
  },
  {
   "cell_type": "code",
   "execution_count": 1,
   "metadata": {},
   "outputs": [],
   "source": [
    "import pandas as pd"
   ]
  },
  {
   "cell_type": "code",
   "execution_count": 2,
   "metadata": {},
   "outputs": [],
   "source": [
    "# Criação de tabelas dummy\n",
    "\n",
    "vss = pd.DataFrame(columns = ['confirmedDate', 'eventType', 'amountInBRL']) \n",
    "receivables = pd.DataFrame(columns = ['confirmedDate', 'eventType', 'amountInBRL']) "
   ]
  },
  {
   "cell_type": "code",
   "execution_count": 3,
   "metadata": {},
   "outputs": [],
   "source": [
    "# Criação tabela de batimento\n",
    "\n",
    "batimentoCleared = pd.DataFrame(columns = ['confirmedDate', 'eventType', 'vssAmount', 'receivablesAmount', 'dif']) "
   ]
  },
  {
   "cell_type": "markdown",
   "metadata": {},
   "source": [
    "###### Check tabelas"
   ]
  },
  {
   "cell_type": "code",
   "execution_count": 4,
   "metadata": {},
   "outputs": [
    {
     "data": {
      "text/html": [
       "<div>\n",
       "<style scoped>\n",
       "    .dataframe tbody tr th:only-of-type {\n",
       "        vertical-align: middle;\n",
       "    }\n",
       "\n",
       "    .dataframe tbody tr th {\n",
       "        vertical-align: top;\n",
       "    }\n",
       "\n",
       "    .dataframe thead th {\n",
       "        text-align: right;\n",
       "    }\n",
       "</style>\n",
       "<table border=\"1\" class=\"dataframe\">\n",
       "  <thead>\n",
       "    <tr style=\"text-align: right;\">\n",
       "      <th></th>\n",
       "      <th>confirmedDate</th>\n",
       "      <th>eventType</th>\n",
       "      <th>amountInBRL</th>\n",
       "    </tr>\n",
       "  </thead>\n",
       "  <tbody>\n",
       "  </tbody>\n",
       "</table>\n",
       "</div>"
      ],
      "text/plain": [
       "Empty DataFrame\n",
       "Columns: [confirmedDate, eventType, amountInBRL]\n",
       "Index: []"
      ]
     },
     "execution_count": 4,
     "metadata": {},
     "output_type": "execute_result"
    }
   ],
   "source": [
    "vss"
   ]
  },
  {
   "cell_type": "code",
   "execution_count": 5,
   "metadata": {},
   "outputs": [
    {
     "data": {
      "text/html": [
       "<div>\n",
       "<style scoped>\n",
       "    .dataframe tbody tr th:only-of-type {\n",
       "        vertical-align: middle;\n",
       "    }\n",
       "\n",
       "    .dataframe tbody tr th {\n",
       "        vertical-align: top;\n",
       "    }\n",
       "\n",
       "    .dataframe thead th {\n",
       "        text-align: right;\n",
       "    }\n",
       "</style>\n",
       "<table border=\"1\" class=\"dataframe\">\n",
       "  <thead>\n",
       "    <tr style=\"text-align: right;\">\n",
       "      <th></th>\n",
       "      <th>confirmedDate</th>\n",
       "      <th>eventType</th>\n",
       "      <th>amountInBRL</th>\n",
       "    </tr>\n",
       "  </thead>\n",
       "  <tbody>\n",
       "  </tbody>\n",
       "</table>\n",
       "</div>"
      ],
      "text/plain": [
       "Empty DataFrame\n",
       "Columns: [confirmedDate, eventType, amountInBRL]\n",
       "Index: []"
      ]
     },
     "execution_count": 5,
     "metadata": {},
     "output_type": "execute_result"
    }
   ],
   "source": [
    "receivables"
   ]
  },
  {
   "cell_type": "code",
   "execution_count": 6,
   "metadata": {},
   "outputs": [
    {
     "data": {
      "text/html": [
       "<div>\n",
       "<style scoped>\n",
       "    .dataframe tbody tr th:only-of-type {\n",
       "        vertical-align: middle;\n",
       "    }\n",
       "\n",
       "    .dataframe tbody tr th {\n",
       "        vertical-align: top;\n",
       "    }\n",
       "\n",
       "    .dataframe thead th {\n",
       "        text-align: right;\n",
       "    }\n",
       "</style>\n",
       "<table border=\"1\" class=\"dataframe\">\n",
       "  <thead>\n",
       "    <tr style=\"text-align: right;\">\n",
       "      <th></th>\n",
       "      <th>confirmedDate</th>\n",
       "      <th>eventType</th>\n",
       "      <th>vssAmount</th>\n",
       "      <th>receivablesAmount</th>\n",
       "      <th>dif</th>\n",
       "    </tr>\n",
       "  </thead>\n",
       "  <tbody>\n",
       "  </tbody>\n",
       "</table>\n",
       "</div>"
      ],
      "text/plain": [
       "Empty DataFrame\n",
       "Columns: [confirmedDate, eventType, vssAmount, receivablesAmount, dif]\n",
       "Index: []"
      ]
     },
     "execution_count": 6,
     "metadata": {},
     "output_type": "execute_result"
    }
   ],
   "source": [
    "batimentoCleared"
   ]
  },
  {
   "cell_type": "markdown",
   "metadata": {},
   "source": []
  },
  {
   "cell_type": "markdown",
   "metadata": {},
   "source": [
    "### Roteiro\n",
    "\n",
    "- Criar um DataFrame diferente para cada batimento de eventType\n",
    "- Implementar cada batimento usando groupBy\n",
    "     - Compilar array de datas confirmedDate a partir das datas distintas presentes nas duas bases\n",
    "     - Incluir amounts das duas bases nas respectivas colunas (amount_Stone e amount_Visa)\n",
    "     - Calcular a dif como a diferença entre os amounts mencionados acima para cada eventType\n",
    "- Juntar todos os DataFrames de batimento individuais num único multi-index (hierarquia de índices)"
   ]
  },
  {
   "cell_type": "code",
   "execution_count": 12,
   "metadata": {},
   "outputs": [],
   "source": [
    "debit = pd.DataFrame(columns = ['confirmedDate', 'amount_Stone', 'amount_Visa', 'dif']) \n",
    "credit = pd.DataFrame(columns = ['confirmedDate', 'amount_Stone', 'amount_Visa', 'dif']) \n",
    "chargeback = pd.DataFrame(columns = ['confirmedDate', 'amount_Stone', 'amount_Visa', 'dif']) \n",
    "secondPresentment = pd.DataFrame(columns = ['confirmedDate', 'amount_Stone', 'amount_Visa', 'dif']) "
   ]
  },
  {
   "cell_type": "markdown",
   "metadata": {},
   "source": [
    "###### Chech tabelas de batimento"
   ]
  },
  {
   "cell_type": "code",
   "execution_count": 13,
   "metadata": {},
   "outputs": [
    {
     "data": {
      "text/html": [
       "<div>\n",
       "<style scoped>\n",
       "    .dataframe tbody tr th:only-of-type {\n",
       "        vertical-align: middle;\n",
       "    }\n",
       "\n",
       "    .dataframe tbody tr th {\n",
       "        vertical-align: top;\n",
       "    }\n",
       "\n",
       "    .dataframe thead th {\n",
       "        text-align: right;\n",
       "    }\n",
       "</style>\n",
       "<table border=\"1\" class=\"dataframe\">\n",
       "  <thead>\n",
       "    <tr style=\"text-align: right;\">\n",
       "      <th></th>\n",
       "      <th>confirmedDate</th>\n",
       "      <th>amount_Stone</th>\n",
       "      <th>amount_Visa</th>\n",
       "      <th>dif</th>\n",
       "    </tr>\n",
       "  </thead>\n",
       "  <tbody>\n",
       "  </tbody>\n",
       "</table>\n",
       "</div>"
      ],
      "text/plain": [
       "Empty DataFrame\n",
       "Columns: [confirmedDate, amount_Stone, amount_Visa, dif]\n",
       "Index: []"
      ]
     },
     "execution_count": 13,
     "metadata": {},
     "output_type": "execute_result"
    }
   ],
   "source": [
    "debit"
   ]
  },
  {
   "cell_type": "code",
   "execution_count": 14,
   "metadata": {},
   "outputs": [
    {
     "data": {
      "text/html": [
       "<div>\n",
       "<style scoped>\n",
       "    .dataframe tbody tr th:only-of-type {\n",
       "        vertical-align: middle;\n",
       "    }\n",
       "\n",
       "    .dataframe tbody tr th {\n",
       "        vertical-align: top;\n",
       "    }\n",
       "\n",
       "    .dataframe thead th {\n",
       "        text-align: right;\n",
       "    }\n",
       "</style>\n",
       "<table border=\"1\" class=\"dataframe\">\n",
       "  <thead>\n",
       "    <tr style=\"text-align: right;\">\n",
       "      <th></th>\n",
       "      <th>confirmedDate</th>\n",
       "      <th>amount_Stone</th>\n",
       "      <th>amount_Visa</th>\n",
       "      <th>dif</th>\n",
       "    </tr>\n",
       "  </thead>\n",
       "  <tbody>\n",
       "  </tbody>\n",
       "</table>\n",
       "</div>"
      ],
      "text/plain": [
       "Empty DataFrame\n",
       "Columns: [confirmedDate, amount_Stone, amount_Visa, dif]\n",
       "Index: []"
      ]
     },
     "execution_count": 14,
     "metadata": {},
     "output_type": "execute_result"
    }
   ],
   "source": [
    "credit"
   ]
  },
  {
   "cell_type": "code",
   "execution_count": 15,
   "metadata": {},
   "outputs": [
    {
     "data": {
      "text/html": [
       "<div>\n",
       "<style scoped>\n",
       "    .dataframe tbody tr th:only-of-type {\n",
       "        vertical-align: middle;\n",
       "    }\n",
       "\n",
       "    .dataframe tbody tr th {\n",
       "        vertical-align: top;\n",
       "    }\n",
       "\n",
       "    .dataframe thead th {\n",
       "        text-align: right;\n",
       "    }\n",
       "</style>\n",
       "<table border=\"1\" class=\"dataframe\">\n",
       "  <thead>\n",
       "    <tr style=\"text-align: right;\">\n",
       "      <th></th>\n",
       "      <th>confirmedDate</th>\n",
       "      <th>amount_Stone</th>\n",
       "      <th>amount_Visa</th>\n",
       "      <th>dif</th>\n",
       "    </tr>\n",
       "  </thead>\n",
       "  <tbody>\n",
       "  </tbody>\n",
       "</table>\n",
       "</div>"
      ],
      "text/plain": [
       "Empty DataFrame\n",
       "Columns: [confirmedDate, amount_Stone, amount_Visa, dif]\n",
       "Index: []"
      ]
     },
     "execution_count": 15,
     "metadata": {},
     "output_type": "execute_result"
    }
   ],
   "source": [
    "chargeback"
   ]
  },
  {
   "cell_type": "code",
   "execution_count": 25,
   "metadata": {},
   "outputs": [
    {
     "data": {
      "text/html": [
       "<div>\n",
       "<style scoped>\n",
       "    .dataframe tbody tr th:only-of-type {\n",
       "        vertical-align: middle;\n",
       "    }\n",
       "\n",
       "    .dataframe tbody tr th {\n",
       "        vertical-align: top;\n",
       "    }\n",
       "\n",
       "    .dataframe thead th {\n",
       "        text-align: right;\n",
       "    }\n",
       "</style>\n",
       "<table border=\"1\" class=\"dataframe\">\n",
       "  <thead>\n",
       "    <tr style=\"text-align: right;\">\n",
       "      <th></th>\n",
       "      <th>confirmedDate</th>\n",
       "      <th>amount_Stone</th>\n",
       "      <th>amount_Visa</th>\n",
       "      <th>dif</th>\n",
       "    </tr>\n",
       "  </thead>\n",
       "  <tbody>\n",
       "  </tbody>\n",
       "</table>\n",
       "</div>"
      ],
      "text/plain": [
       "Empty DataFrame\n",
       "Columns: [confirmedDate, amount_Stone, amount_Visa, dif]\n",
       "Index: []"
      ]
     },
     "execution_count": 25,
     "metadata": {},
     "output_type": "execute_result"
    }
   ],
   "source": [
    "secondPresentment"
   ]
  },
  {
   "cell_type": "markdown",
   "metadata": {},
   "source": [
    "######  Ok"
   ]
  },
  {
   "cell_type": "code",
   "execution_count": 23,
   "metadata": {},
   "outputs": [
    {
     "data": {
      "text/plain": [
       "array([], dtype=object)"
      ]
     },
     "execution_count": 23,
     "metadata": {},
     "output_type": "execute_result"
    }
   ],
   "source": [
    "# Datas de clearing distintas em cada base\n",
    "vssDates = vss.confirmedDate.unique()\n",
    "receivablesDates = receivables.confirmedDate.unique()\n",
    "\n",
    "# Remoção de duplicatas entre base, composição da base única de datas distintas (allDates)\n",
    "allDates = vssDates+receivablesDates\n",
    "allUniqueDates = allDates.unique()\n",
    "\n",
    "# Check\n",
    "allDates"
   ]
  },
  {
   "cell_type": "code",
   "execution_count": 24,
   "metadata": {},
   "outputs": [],
   "source": [
    "# Atribuindo datas distintas ao campo de data dos batimentos\n",
    "credit.confirmedDate = allDates\n",
    "debit.confirmedDate = allDates\n",
    "chargeback.confirmedDate = allDates\n",
    "secondPresentment.confirmedDate = allDates"
   ]
  },
  {
   "cell_type": "code",
   "execution_count": 39,
   "metadata": {},
   "outputs": [],
   "source": [
    "# Incluindo amounts das bases originais nas bases de batimento\n",
    "\n",
    "\n",
    "### Amounts Stone (Receivables)\n",
    "creditAmounts_Stone = receivables[receivables.eventType == 'credit'].groupby(\"confirmedDate\").sum()\n",
    "\n",
    "debitAmounts_Stone = receivables[receivables.eventType == 'debit'].groupby(\"confirmedDate\").sum()\n",
    "\n",
    "chargebackAmounts_Stone = receivables[receivables.eventType == 'chargeback'].groupby(\"confirmedDate\").sum()\n",
    "\n",
    "secondPresentmentAmounts_Stone = receivables[receivables.eventType == 'secondPresentment'].groupby(\"confirmedDate\").sum()\n",
    "\n",
    "\n",
    "### Amounts Visa (VSS-910)\n",
    "creditAmounts_Visa = vss[vss.eventType == 'credit'].groupby(\"confirmedDate\").sum()\n",
    "\n",
    "debitAmounts_Visa = vss[vss.eventType == 'debit'].groupby(\"confirmedDate\").sum()\n",
    "\n",
    "chargebackAmounts_Visa = vss[vss.eventType == 'chargeback'].groupby(\"confirmedDate\").sum()\n",
    "\n",
    "secondPresentmentAmounts_Visa = vss[vss.eventType == 'secondPresentment'].groupby(\"confirmedDate\").sum()"
   ]
  },
  {
   "cell_type": "code",
   "execution_count": 33,
   "metadata": {},
   "outputs": [
    {
     "data": {
      "text/plain": [
       "Series([], Name: amount_Stone, dtype: float64)"
      ]
     },
     "execution_count": 33,
     "metadata": {},
     "output_type": "execute_result"
    }
   ],
   "source": [
    "credit.amount_Stone"
   ]
  },
  {
   "cell_type": "code",
   "execution_count": 42,
   "metadata": {},
   "outputs": [],
   "source": [
    "for date in allDates:\n",
    "    #Incluindo amounts Stone nas bases de batimento\n",
    "    credit[credit.confirmedDate == date].amount_Stone = creditAmounts_Stone[creditAmounts_Stone.confirmedDate == date].amountInBRL\n",
    "    debit[debit.confirmedDate == date].amount_Stone = debitAmounts_Stone[debitAmounts_Stone.confirmedDate == date].amountInBRL\n",
    "    chargeback[chargeback.confirmedDate == date].amount_Stone = chargebackAmounts_Stone[chargebackAmounts_Stone.confirmedDate == date].amountInBRL\n",
    "    secondPresentment[secondPresentment.confirmedDate == date].amount_Stone = secondPresentmentAmounts_Stone[secondPresentmentAmounts_Stone.confirmedDate == date].amountInBRL\n",
    "    \n",
    "    \n",
    "    #Incluindo amounts Visa nas bases de batimento\n",
    "    credit[credit.confirmedDate == date].amount_Visa = creditAmounts_Visa[creditAmounts_Visa.confirmedDate == date].amountInBRL\n",
    "    debit[debit.confirmedDate == date].amount_Visa = debitAmounts_Visa[debitAmounts_Visa.confirmedDate == date].amountInBRL\n",
    "    chargeback[chargeback.confirmedDate == date].amount_Visa = chargebackAmounts_Visa[chargebackAmounts_Visa.confirmedDate == date].amountInBRL\n",
    "    secondPresentment[secondPresentment.confirmedDate == date].amount_Visa = secondPresentmentAmounts_Visa[secondPresentmentAmounts_Visa.confirmedDate == date].amountInBRL\n",
    "    \n",
    "    # Fazer batimento em cada data\n",
    "    credit[credit.confirmedDate == date].dif = credit[credit.confirmedDate == date].amount_Visa - credit[credit.confirmedDate == date].amount_Stone\n",
    "    debit[debit.confirmedDate == date].dif = debit[debit.confirmedDate == date].amount_Visa - debit[debit.confirmedDate == date].amount_Stone\n",
    "    chargeback[chargeback.confirmedDate == date].dif = chargeback[chargeback.confirmedDate == date].amount_Visa - chargeback[chargeback.confirmedDate == date].amount_Stone\n",
    "    secondPresentment[secondPresentment.confirmedDate == date].dif = secondPresentment[secondPresentment.confirmedDate == date].amount_Visa - secondPresentment[secondPresentment.confirmedDate == date].amount_Stone\n",
    "    "
   ]
  }
 ],
 "metadata": {
  "kernelspec": {
   "display_name": "Python 3",
   "language": "python",
   "name": "python3"
  },
  "language_info": {
   "codemirror_mode": {
    "name": "ipython",
    "version": 3
   },
   "file_extension": ".py",
   "mimetype": "text/x-python",
   "name": "python",
   "nbconvert_exporter": "python",
   "pygments_lexer": "ipython3",
   "version": "3.7.4"
  }
 },
 "nbformat": 4,
 "nbformat_minor": 2
}
