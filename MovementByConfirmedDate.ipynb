{
 "cells": [
  {
   "cell_type": "code",
   "execution_count": 3,
   "metadata": {},
   "outputs": [],
   "source": [
    "import pandas as pd\n",
    "import numpy as np"
   ]
  },
  {
   "cell_type": "code",
   "execution_count": 12,
   "metadata": {},
   "outputs": [],
   "source": [
    "mov = pd.read_csv(\"MovementByConfirmedDate.csv\", sep=';', thousands=\",\", parse_dates=['ConfirmedDate'], dtype={\"GrossAmount\": np.float64, \"NetAmount\": np.float64}, usecols=[\"ConfirmedDate\", \"ServiceType\", \"GrossAmount\"])"
   ]
  },
  {
   "cell_type": "code",
   "execution_count": 25,
   "metadata": {},
   "outputs": [],
   "source": [
    "mov.rename(columns={'ConfirmedDate':'confirmedDate',\n",
    "                    'ServiceType':'eventType',\n",
    "                    'GrossAmount':'amountInBRL'},\n",
    "           inplace=True)"
   ]
  },
  {
   "cell_type": "code",
   "execution_count": 31,
   "metadata": {},
   "outputs": [
    {
     "data": {
      "text/plain": [
       "0                  Credit\n",
       "1                  Credit\n",
       "2                  Credit\n",
       "3                  Credit\n",
       "4                  Credit\n",
       "              ...        \n",
       "1057                Debit\n",
       "1058                Debit\n",
       "1059    SecondPresentment\n",
       "1060    SecondPresentment\n",
       "1061               Credit\n",
       "Name: eventType, Length: 1062, dtype: object"
      ]
     },
     "execution_count": 31,
     "metadata": {},
     "output_type": "execute_result"
    }
   ],
   "source": [
    "mov['eventType'].replace({'SecondPresentment Release': 'Credit', 'Chargeback Suspension': 'Credit'})"
   ]
  },
  {
   "cell_type": "code",
   "execution_count": 32,
   "metadata": {},
   "outputs": [
    {
     "data": {
      "text/plain": [
       "confirmedDate    datetime64[ns]\n",
       "eventType                object\n",
       "amountInBRL             float64\n",
       "dtype: object"
      ]
     },
     "execution_count": 32,
     "metadata": {},
     "output_type": "execute_result"
    }
   ],
   "source": [
    "mov.dtypes"
   ]
  },
  {
   "cell_type": "code",
   "execution_count": 33,
   "metadata": {},
   "outputs": [
    {
     "data": {
      "text/html": [
       "<div>\n",
       "<style scoped>\n",
       "    .dataframe tbody tr th:only-of-type {\n",
       "        vertical-align: middle;\n",
       "    }\n",
       "\n",
       "    .dataframe tbody tr th {\n",
       "        vertical-align: top;\n",
       "    }\n",
       "\n",
       "    .dataframe thead th {\n",
       "        text-align: right;\n",
       "    }\n",
       "</style>\n",
       "<table border=\"1\" class=\"dataframe\">\n",
       "  <thead>\n",
       "    <tr style=\"text-align: right;\">\n",
       "      <th></th>\n",
       "      <th>confirmedDate</th>\n",
       "      <th>eventType</th>\n",
       "      <th>amountInBRL</th>\n",
       "    </tr>\n",
       "  </thead>\n",
       "  <tbody>\n",
       "    <tr>\n",
       "      <th>0</th>\n",
       "      <td>2021-01-01</td>\n",
       "      <td>Chargeback Suspension</td>\n",
       "      <td>-9584689.0</td>\n",
       "    </tr>\n",
       "    <tr>\n",
       "      <th>1</th>\n",
       "      <td>2021-01-01</td>\n",
       "      <td>Credit</td>\n",
       "      <td>24243466.0</td>\n",
       "    </tr>\n",
       "    <tr>\n",
       "      <th>2</th>\n",
       "      <td>2021-01-01</td>\n",
       "      <td>Credit</td>\n",
       "      <td>261388627.0</td>\n",
       "    </tr>\n",
       "    <tr>\n",
       "      <th>3</th>\n",
       "      <td>2021-01-01</td>\n",
       "      <td>Credit</td>\n",
       "      <td>100.0</td>\n",
       "    </tr>\n",
       "    <tr>\n",
       "      <th>4</th>\n",
       "      <td>2021-01-01</td>\n",
       "      <td>Credit</td>\n",
       "      <td>477198.0</td>\n",
       "    </tr>\n",
       "  </tbody>\n",
       "</table>\n",
       "</div>"
      ],
      "text/plain": [
       "  confirmedDate              eventType  amountInBRL\n",
       "0    2021-01-01  Chargeback Suspension   -9584689.0\n",
       "1    2021-01-01                 Credit   24243466.0\n",
       "2    2021-01-01                 Credit  261388627.0\n",
       "3    2021-01-01                 Credit        100.0\n",
       "4    2021-01-01                 Credit     477198.0"
      ]
     },
     "execution_count": 33,
     "metadata": {},
     "output_type": "execute_result"
    }
   ],
   "source": [
    "mov.head()"
   ]
  },
  {
   "cell_type": "code",
   "execution_count": 34,
   "metadata": {},
   "outputs": [
    {
     "name": "stdout",
     "output_type": "stream",
     "text": [
      "     confirmedDate                  eventType   amountInBRL\n",
      "0       2021-01-01      Chargeback Suspension -9.584689e+06\n",
      "1       2021-01-01                     Credit  2.424347e+07\n",
      "2       2021-01-01                     Credit  2.613886e+08\n",
      "3       2021-01-01                     Credit  1.000000e+02\n",
      "4       2021-01-01                     Credit  4.771980e+05\n",
      "...            ...                        ...           ...\n",
      "1057    2021-01-24                      Debit  7.109806e+06\n",
      "1058    2021-01-24                      Debit  8.663760e+09\n",
      "1059    2021-01-24          SecondPresentment  5.242800e+04\n",
      "1060    2021-01-24          SecondPresentment  5.322345e+06\n",
      "1061    2021-01-24  SecondPresentment Release  1.206838e+07\n",
      "\n",
      "[1062 rows x 3 columns]\n"
     ]
    }
   ],
   "source": [
    "print(mov)"
   ]
  },
  {
   "cell_type": "code",
   "execution_count": null,
   "metadata": {},
   "outputs": [],
   "source": []
  }
 ],
 "metadata": {
  "kernelspec": {
   "display_name": "Python 3",
   "language": "python",
   "name": "python3"
  },
  "language_info": {
   "codemirror_mode": {
    "name": "ipython",
    "version": 3
   },
   "file_extension": ".py",
   "mimetype": "text/x-python",
   "name": "python",
   "nbconvert_exporter": "python",
   "pygments_lexer": "ipython3",
   "version": "3.9.1"
  }
 },
 "nbformat": 4,
 "nbformat_minor": 4
}
