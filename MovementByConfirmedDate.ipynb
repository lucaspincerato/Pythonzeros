{
 "cells": [
  {
   "cell_type": "code",
   "execution_count": 154,
   "metadata": {},
   "outputs": [],
   "source": [
    "import pandas as pd\n",
    "import numpy as np"
   ]
  },
  {
   "cell_type": "code",
   "execution_count": 155,
   "metadata": {},
   "outputs": [],
   "source": [
    "mov = pd.read_csv(\"MovementByConfirmedDate.csv\", sep=';', thousands=\",\", parse_dates=['ConfirmedDate'], dtype={\"GrossAmount\": np.float64, \"NetAmount\": np.float64}, usecols=[\"ConfirmedDate\", \"ServiceType\", \"GrossAmount\"])"
   ]
  },
  {
   "cell_type": "code",
   "execution_count": 156,
   "metadata": {},
   "outputs": [],
   "source": [
    "mov.rename(columns={'ConfirmedDate':'confirmedDate',\n",
    "                    'ServiceType':'eventType',\n",
    "                    'GrossAmount':'amountInBRL'},\n",
    "           inplace=True)"
   ]
  },
  {
   "cell_type": "code",
   "execution_count": 162,
   "metadata": {},
   "outputs": [],
   "source": [
    "for index, row in mov.iterrows():\n",
    "    if row[\"eventType\"] in [\"Chargeback Suspension\", \"SecondPresentment Release\", \"Credit\"]:\n",
    "        mov.loc[index, \"eventType\"] = \"credit\"\n",
    "    elif row[\"eventType\"] == \"SecondPresentment\":\n",
    "        mov.loc[index, \"eventType\"] = \"secondPresentment\"\n",
    "    elif row[\"eventType\"] == \"Debit\":\n",
    "        mov.loc[index, \"eventType\"] = \"debit\"\n",
    "    elif row[\"eventType\"] == \"Chargeback\":\n",
    "        mov.loc[index, \"eventType\"] = \"chargeback\""
   ]
  },
  {
   "cell_type": "code",
   "execution_count": 166,
   "metadata": {},
   "outputs": [],
   "source": [
    "rows_to_delete = []"
   ]
  },
  {
   "cell_type": "code",
   "execution_count": 167,
   "metadata": {},
   "outputs": [],
   "source": [
    "for index, row in mov.iterrows():\n",
    "    if row[\"eventType\"] not in ['chargeback', 'credit', 'debit', 'secondPresentment']:\n",
    "        rows_to_delete.append(index)"
   ]
  },
  {
   "cell_type": "code",
   "execution_count": 168,
   "metadata": {},
   "outputs": [
    {
     "data": {
      "text/plain": [
       "[8,\n",
       " 9,\n",
       " 42,\n",
       " 43,\n",
       " 75,\n",
       " 76,\n",
       " 103,\n",
       " 104,\n",
       " 114,\n",
       " 120,\n",
       " 139,\n",
       " 140,\n",
       " 149,\n",
       " 155,\n",
       " 166,\n",
       " 181,\n",
       " 187,\n",
       " 192,\n",
       " 198,\n",
       " 199,\n",
       " 224,\n",
       " 225,\n",
       " 231,\n",
       " 236,\n",
       " 242,\n",
       " 243,\n",
       " 268,\n",
       " 269,\n",
       " 279,\n",
       " 280,\n",
       " 286,\n",
       " 312,\n",
       " 318,\n",
       " 323,\n",
       " 329,\n",
       " 330,\n",
       " 355,\n",
       " 356,\n",
       " 362,\n",
       " 367,\n",
       " 373,\n",
       " 374,\n",
       " 400,\n",
       " 401,\n",
       " 411,\n",
       " 412,\n",
       " 418,\n",
       " 439,\n",
       " 440,\n",
       " 445,\n",
       " 449,\n",
       " 453,\n",
       " 454,\n",
       " 464,\n",
       " 478,\n",
       " 479,\n",
       " 485,\n",
       " 511,\n",
       " 512,\n",
       " 518,\n",
       " 523,\n",
       " 529,\n",
       " 550,\n",
       " 551,\n",
       " 552,\n",
       " 562,\n",
       " 563,\n",
       " 569,\n",
       " 593,\n",
       " 594,\n",
       " 604,\n",
       " 610,\n",
       " 622,\n",
       " 623,\n",
       " 636,\n",
       " 637,\n",
       " 647,\n",
       " 653,\n",
       " 654,\n",
       " 666,\n",
       " 667,\n",
       " 682,\n",
       " 683,\n",
       " 693,\n",
       " 700,\n",
       " 724,\n",
       " 725,\n",
       " 730,\n",
       " 738,\n",
       " 739,\n",
       " 765,\n",
       " 766,\n",
       " 771,\n",
       " 796,\n",
       " 797,\n",
       " 807,\n",
       " 812,\n",
       " 835,\n",
       " 836,\n",
       " 837,\n",
       " 842,\n",
       " 847,\n",
       " 853,\n",
       " 877,\n",
       " 878,\n",
       " 888,\n",
       " 894,\n",
       " 905,\n",
       " 919,\n",
       " 920,\n",
       " 926,\n",
       " 931,\n",
       " 937,\n",
       " 962,\n",
       " 963,\n",
       " 973,\n",
       " 979,\n",
       " 1004,\n",
       " 1005,\n",
       " 1010,\n",
       " 1018,\n",
       " 1042,\n",
       " 1043,\n",
       " 1048]"
      ]
     },
     "execution_count": 168,
     "metadata": {},
     "output_type": "execute_result"
    }
   ],
   "source": [
    "rows_to_delete"
   ]
  },
  {
   "cell_type": "code",
   "execution_count": 169,
   "metadata": {},
   "outputs": [],
   "source": [
    "mov = mov.drop(rows_to_delete)"
   ]
  }
 ],
 "metadata": {
  "kernelspec": {
   "display_name": "Python 3",
   "language": "python",
   "name": "python3"
  },
  "language_info": {
   "codemirror_mode": {
    "name": "ipython",
    "version": 3
   },
   "file_extension": ".py",
   "mimetype": "text/x-python",
   "name": "python",
   "nbconvert_exporter": "python",
   "pygments_lexer": "ipython3",
   "version": "3.9.1"
  }
 },
 "nbformat": 4,
 "nbformat_minor": 4
}
